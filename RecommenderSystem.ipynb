{
 "cells": [
  {
   "cell_type": "markdown",
   "metadata": {},
   "source": [
    "# <center> Proposal for a Course Recommender System </center>\n"
   ]
  },
  {
   "cell_type": "code",
   "execution_count": 1,
   "metadata": {},
   "outputs": [],
   "source": [
    "import csv\n",
    "import copy\n",
    "import pyodbc\n",
    "import pickle\n",
    "import implicit\n",
    "import itertools\n",
    "import numpy as np\n",
    "import pandas as pd\n",
    "import matplotlib.pyplot as plt\n",
    "import scipy.sparse as sparse\n",
    "\n",
    "%matplotlib inline\n",
    "plt.style.use('ggplot')\n"
   ]
  },
  {
   "cell_type": "markdown",
   "metadata": {},
   "source": [
    "## 1. Load dataset as a Pandas dataframe"
   ]
  },
  {
   "cell_type": "code",
   "execution_count": 6,
   "metadata": {},
   "outputs": [
    {
     "data": {
      "text/html": [
       "<div>\n",
       "<style scoped>\n",
       "    .dataframe tbody tr th:only-of-type {\n",
       "        vertical-align: middle;\n",
       "    }\n",
       "\n",
       "    .dataframe tbody tr th {\n",
       "        vertical-align: top;\n",
       "    }\n",
       "\n",
       "    .dataframe thead th {\n",
       "        text-align: right;\n",
       "    }\n",
       "</style>\n",
       "<table border=\"1\" class=\"dataframe\">\n",
       "  <thead>\n",
       "    <tr style=\"text-align: right;\">\n",
       "      <th></th>\n",
       "      <th>ID</th>\n",
       "      <th>PersonID</th>\n",
       "      <th>TrainingID</th>\n",
       "      <th>HotelRequired</th>\n",
       "      <th>HotelDesiredCheckIn</th>\n",
       "      <th>HotelDesiredCheckOut</th>\n",
       "      <th>HotelRequiredFromType</th>\n",
       "      <th>HotelMustHaveSmokingRoom</th>\n",
       "      <th>HotelMustHaveBreakfast</th>\n",
       "      <th>IsTravelRequired</th>\n",
       "      <th>...</th>\n",
       "      <th>VirtualRoomUserID</th>\n",
       "      <th>SubscriptionStartDate</th>\n",
       "      <th>SubscriptionEndDate</th>\n",
       "      <th>UpdateAt</th>\n",
       "      <th>UpdateBy</th>\n",
       "      <th>StatusTypeID</th>\n",
       "      <th>OrderID</th>\n",
       "      <th>OrderCancellationID</th>\n",
       "      <th>BookingID</th>\n",
       "      <th>CancellationID</th>\n",
       "    </tr>\n",
       "  </thead>\n",
       "  <tbody>\n",
       "    <tr>\n",
       "      <td>0</td>\n",
       "      <td>1</td>\n",
       "      <td>3</td>\n",
       "      <td>312</td>\n",
       "      <td>True</td>\n",
       "      <td>NaT</td>\n",
       "      <td>NaT</td>\n",
       "      <td>1.0</td>\n",
       "      <td>True</td>\n",
       "      <td>False</td>\n",
       "      <td>True</td>\n",
       "      <td>...</td>\n",
       "      <td>NaN</td>\n",
       "      <td>NaT</td>\n",
       "      <td>NaT</td>\n",
       "      <td>NaT</td>\n",
       "      <td>NaN</td>\n",
       "      <td>0</td>\n",
       "      <td>NaN</td>\n",
       "      <td>NaN</td>\n",
       "      <td>161194</td>\n",
       "      <td>3.0</td>\n",
       "    </tr>\n",
       "    <tr>\n",
       "      <td>1</td>\n",
       "      <td>3</td>\n",
       "      <td>3</td>\n",
       "      <td>1925</td>\n",
       "      <td>False</td>\n",
       "      <td>NaT</td>\n",
       "      <td>NaT</td>\n",
       "      <td>1.0</td>\n",
       "      <td>False</td>\n",
       "      <td>False</td>\n",
       "      <td>True</td>\n",
       "      <td>...</td>\n",
       "      <td>NaN</td>\n",
       "      <td>NaT</td>\n",
       "      <td>NaT</td>\n",
       "      <td>NaT</td>\n",
       "      <td>NaN</td>\n",
       "      <td>0</td>\n",
       "      <td>NaN</td>\n",
       "      <td>NaN</td>\n",
       "      <td>177430</td>\n",
       "      <td>2.0</td>\n",
       "    </tr>\n",
       "    <tr>\n",
       "      <td>2</td>\n",
       "      <td>4</td>\n",
       "      <td>3</td>\n",
       "      <td>1631</td>\n",
       "      <td>False</td>\n",
       "      <td>NaT</td>\n",
       "      <td>NaT</td>\n",
       "      <td>1.0</td>\n",
       "      <td>False</td>\n",
       "      <td>False</td>\n",
       "      <td>True</td>\n",
       "      <td>...</td>\n",
       "      <td>NaN</td>\n",
       "      <td>NaT</td>\n",
       "      <td>NaT</td>\n",
       "      <td>NaT</td>\n",
       "      <td>NaN</td>\n",
       "      <td>0</td>\n",
       "      <td>NaN</td>\n",
       "      <td>NaN</td>\n",
       "      <td>169563</td>\n",
       "      <td>5.0</td>\n",
       "    </tr>\n",
       "    <tr>\n",
       "      <td>3</td>\n",
       "      <td>5</td>\n",
       "      <td>6</td>\n",
       "      <td>312</td>\n",
       "      <td>False</td>\n",
       "      <td>NaT</td>\n",
       "      <td>NaT</td>\n",
       "      <td>1.0</td>\n",
       "      <td>False</td>\n",
       "      <td>False</td>\n",
       "      <td>True</td>\n",
       "      <td>...</td>\n",
       "      <td>NaN</td>\n",
       "      <td>NaT</td>\n",
       "      <td>NaT</td>\n",
       "      <td>NaT</td>\n",
       "      <td>NaN</td>\n",
       "      <td>0</td>\n",
       "      <td>NaN</td>\n",
       "      <td>NaN</td>\n",
       "      <td>161195</td>\n",
       "      <td>4.0</td>\n",
       "    </tr>\n",
       "    <tr>\n",
       "      <td>4</td>\n",
       "      <td>7</td>\n",
       "      <td>30712</td>\n",
       "      <td>1388</td>\n",
       "      <td>False</td>\n",
       "      <td>NaT</td>\n",
       "      <td>NaT</td>\n",
       "      <td>1.0</td>\n",
       "      <td>False</td>\n",
       "      <td>False</td>\n",
       "      <td>False</td>\n",
       "      <td>...</td>\n",
       "      <td>NaN</td>\n",
       "      <td>NaT</td>\n",
       "      <td>NaT</td>\n",
       "      <td>NaT</td>\n",
       "      <td>NaN</td>\n",
       "      <td>0</td>\n",
       "      <td>NaN</td>\n",
       "      <td>NaN</td>\n",
       "      <td>178291</td>\n",
       "      <td>NaN</td>\n",
       "    </tr>\n",
       "  </tbody>\n",
       "</table>\n",
       "<p>5 rows × 29 columns</p>\n",
       "</div>"
      ],
      "text/plain": [
       "   ID  PersonID  TrainingID  HotelRequired HotelDesiredCheckIn  \\\n",
       "0   1         3         312           True                 NaT   \n",
       "1   3         3        1925          False                 NaT   \n",
       "2   4         3        1631          False                 NaT   \n",
       "3   5         6         312          False                 NaT   \n",
       "4   7     30712        1388          False                 NaT   \n",
       "\n",
       "  HotelDesiredCheckOut  HotelRequiredFromType  HotelMustHaveSmokingRoom  \\\n",
       "0                  NaT                    1.0                      True   \n",
       "1                  NaT                    1.0                     False   \n",
       "2                  NaT                    1.0                     False   \n",
       "3                  NaT                    1.0                     False   \n",
       "4                  NaT                    1.0                     False   \n",
       "\n",
       "   HotelMustHaveBreakfast  IsTravelRequired  ...  VirtualRoomUserID  \\\n",
       "0                   False              True  ...                NaN   \n",
       "1                   False              True  ...                NaN   \n",
       "2                   False              True  ...                NaN   \n",
       "3                   False              True  ...                NaN   \n",
       "4                   False             False  ...                NaN   \n",
       "\n",
       "  SubscriptionStartDate  SubscriptionEndDate  UpdateAt  UpdateBy StatusTypeID  \\\n",
       "0                   NaT                  NaT       NaT       NaN            0   \n",
       "1                   NaT                  NaT       NaT       NaN            0   \n",
       "2                   NaT                  NaT       NaT       NaN            0   \n",
       "3                   NaT                  NaT       NaT       NaN            0   \n",
       "4                   NaT                  NaT       NaT       NaN            0   \n",
       "\n",
       "  OrderID OrderCancellationID  BookingID  CancellationID  \n",
       "0     NaN                 NaN     161194             3.0  \n",
       "1     NaN                 NaN     177430             2.0  \n",
       "2     NaN                 NaN     169563             5.0  \n",
       "3     NaN                 NaN     161195             4.0  \n",
       "4     NaN                 NaN     178291             NaN  \n",
       "\n",
       "[5 rows x 29 columns]"
      ]
     },
     "execution_count": 6,
     "metadata": {},
     "output_type": "execute_result"
    }
   ],
   "source": [
    "conn = pyodbc.connect('DRIVER={SQL Server Native Client 11.0};SERVER=SRV25\\MSSQL17_DEV;DATABASE=crme_test1;UID=sa_dev;PWD=rGiS$[8VmM')\n",
    "query = '''\n",
    "        select *\n",
    "        from TrainingManagement.TrainingAssignedUsers\n",
    "        '''\n",
    "\n",
    "main_df = pd.read_sql(query, conn)\n",
    "main_df.head(5)"
   ]
  },
  {
   "cell_type": "code",
   "execution_count": 9,
   "metadata": {},
   "outputs": [
    {
     "name": "stdout",
     "output_type": "stream",
     "text": [
      "26010 3497 (183619, 29)\n"
     ]
    }
   ],
   "source": [
    "n_users = main_df['PersonID'].unique().shape[0]\n",
    "n_courses = main_df['TrainingID'].unique().shape[0]\n",
    "\n",
    "print(n_users, n_courses, main_df.shape)"
   ]
  },
  {
   "cell_type": "code",
   "execution_count": null,
   "metadata": {},
   "outputs": [],
   "source": []
  },
  {
   "cell_type": "code",
   "execution_count": 10,
   "metadata": {},
   "outputs": [],
   "source": [
    "def threshold_bookings(df, user_min, courses_min):\n",
    "    n_users = df['PersonID'].unique().shape[0]\n",
    "    n_courses = df['TrainingID'].unique().shape[0]\n",
    "    \n",
    "    done = False\n",
    "    while not done:\n",
    "        start_shape = df.shape[0]\n",
    "        course_count = df.groupby('PersonID')['TrainingID'].count()\n",
    "        df = df[~df['PersonID'].isin(course_count[course_count < courses_min].index.tolist())]\n",
    "        user_count = df.groupby('TrainingID')['PersonID'].count()\n",
    "        df = df[~df['TrainingID'].isin(user_count[user_count < user_min].index.tolist())]\n",
    "        end_shape = df.shape[0]\n",
    "        if start_shape == end_shape:\n",
    "            done = True\n",
    "    \n",
    "    return df\n",
    "\n",
    "main_df_lim = threshold_bookings(main_df, 5, 5)"
   ]
  },
  {
   "cell_type": "code",
   "execution_count": 18,
   "metadata": {},
   "outputs": [
    {
     "data": {
      "text/plain": [
       "Int64Index([    1,     2,     3,     4,     5,     6,     7,    11,    14,\n",
       "               16,\n",
       "            ...\n",
       "            50154, 50159, 50160, 50162, 50163, 50261, 50269, 50271, 50272,\n",
       "            50310],\n",
       "           dtype='int64', name='PersonID', length=26010)"
      ]
     },
     "execution_count": 18,
     "metadata": {},
     "output_type": "execute_result"
    }
   ],
   "source": [
    "course_count = main_df.groupby('PersonID')['TrainingID']\n",
    "course_count.count().index"
   ]
  },
  {
   "cell_type": "code",
   "execution_count": null,
   "metadata": {},
   "outputs": [],
   "source": []
  },
  {
   "cell_type": "code",
   "execution_count": null,
   "metadata": {},
   "outputs": [],
   "source": []
  },
  {
   "cell_type": "code",
   "execution_count": null,
   "metadata": {},
   "outputs": [],
   "source": []
  },
  {
   "cell_type": "code",
   "execution_count": null,
   "metadata": {},
   "outputs": [],
   "source": []
  },
  {
   "cell_type": "code",
   "execution_count": null,
   "metadata": {},
   "outputs": [],
   "source": []
  },
  {
   "cell_type": "code",
   "execution_count": null,
   "metadata": {},
   "outputs": [],
   "source": []
  },
  {
   "cell_type": "code",
   "execution_count": null,
   "metadata": {},
   "outputs": [],
   "source": []
  },
  {
   "cell_type": "code",
   "execution_count": 11,
   "metadata": {},
   "outputs": [
    {
     "data": {
      "text/plain": [
       "(147207, 29)"
      ]
     },
     "execution_count": 11,
     "metadata": {},
     "output_type": "execute_result"
    }
   ],
   "source": [
    "main_df_lim.shape"
   ]
  },
  {
   "cell_type": "code",
   "execution_count": null,
   "metadata": {},
   "outputs": [],
   "source": []
  },
  {
   "cell_type": "code",
   "execution_count": null,
   "metadata": {},
   "outputs": [],
   "source": []
  },
  {
   "cell_type": "code",
   "execution_count": null,
   "metadata": {},
   "outputs": [],
   "source": []
  },
  {
   "cell_type": "code",
   "execution_count": null,
   "metadata": {},
   "outputs": [],
   "source": []
  },
  {
   "cell_type": "code",
   "execution_count": null,
   "metadata": {},
   "outputs": [],
   "source": []
  }
 ],
 "metadata": {
  "kernelspec": {
   "display_name": "Python 3",
   "language": "python",
   "name": "python3"
  },
  "language_info": {
   "codemirror_mode": {
    "name": "ipython",
    "version": 3
   },
   "file_extension": ".py",
   "mimetype": "text/x-python",
   "name": "python",
   "nbconvert_exporter": "python",
   "pygments_lexer": "ipython3",
   "version": "3.7.1"
  }
 },
 "nbformat": 4,
 "nbformat_minor": 2
}
